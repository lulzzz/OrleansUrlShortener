{
 "cells": [
  {
   "cell_type": "markdown",
   "id": "b35388ae",
   "metadata": {},
   "source": [
    "Use PowerShell kernel to compile Grains class library project:"
   ]
  },
  {
   "cell_type": "code",
   "execution_count": null,
   "id": "29a92d93",
   "metadata": {
    "dotnet_interactive": {
     "language": "pwsh"
    },
    "vscode": {
     "languageId": "dotnet-interactive.pwsh"
    }
   },
   "outputs": [
    {
     "name": "stdout",
     "output_type": "stream",
     "text": [
      "  Determining projects to restore...\n",
      "  All projects are up-to-date for restore.\n",
      "  UrlShortener.Backend.Interfaces -> /home/vmusr/Documents/repo/OrleansUrlShortener/src/UrlShortener.Backend.Interfaces/bin/Debug/net6.0/UrlShortener.Backend.Interfaces.dll\n",
      "  UrlShortener.Backend.Grains -> /home/vmusr/Documents/repo/OrleansUrlShortener/src/UrlShortener.Backend.Grains/bin/Debug/net6.0/UrlShortener.Backend.Grains.dll\n",
      "\n",
      "Build succeeded.\n",
      "    0 Warning(s)\n",
      "    0 Error(s)\n",
      "\n",
      "Time Elapsed 00:00:03.23\n"
     ]
    }
   ],
   "source": [
    "#!pwsh\n",
    "dotnet build ../src/UrlShortener.Backend.Grains/UrlShortener.Backend.Grains.csproj --nologo --no-self-contained --verbosity minimal"
   ]
  },
  {
   "cell_type": "markdown",
   "id": "9450a28b",
   "metadata": {},
   "source": [
    "Load built Assembly file:"
   ]
  },
  {
   "cell_type": "code",
   "execution_count": null,
   "id": "46a160a6",
   "metadata": {
    "dotnet_interactive": {
     "language": "csharp"
    },
    "vscode": {
     "languageId": "dotnet-interactive.csharp"
    }
   },
   "outputs": [],
   "source": [
    "#r \"../src/UrlShortener.Backend.Grains/bin/Debug/net6.0/UrlShortener.Backend.Grains.dll\""
   ]
  },
  {
   "cell_type": "markdown",
   "id": "376325d3",
   "metadata": {},
   "source": [
    "Install Nuget Packages, since .NET Interactive Notebook is not a pure C# project, [we **cannot** use the Build time code generation packages](https://docs.microsoft.com/en-us/dotnet/orleans/grains/code-generation#what-happens-during-build) but instead install `Microsoft.Orleans.OrleansCodeGenerator` that do code generation when both client & silo app starting:"
   ]
  },
  {
   "cell_type": "code",
   "execution_count": null,
   "id": "2828bd83",
   "metadata": {
    "dotnet_interactive": {
     "language": "csharp"
    },
    "vscode": {
     "languageId": "dotnet-interactive.csharp"
    }
   },
   "outputs": [
    {
     "data": {
      "text/html": [
       "<div><div></div><div></div><div><strong>Installed Packages</strong><ul><li><span>Microsoft.Extensions.Hosting, 6.0.1</span></li><li><span>Microsoft.Extensions.Logging, 6.0.0</span></li><li><span>Microsoft.Extensions.Logging.Abstractions, 6.0.1</span></li><li><span>Microsoft.Orleans.OrleansCodeGenerator, 3.6.3</span></li><li><span>Microsoft.Orleans.Server, 3.6.3</span></li><li><span>Serilog.Extensions.Logging, 3.1.0</span></li><li><span>Serilog.Sinks.Console, 4.0.1</span></li></ul></div></div>"
      ]
     },
     "metadata": {},
     "output_type": "display_data"
    }
   ],
   "source": [
    "#r \"nuget:Microsoft.Extensions.Hosting\"\n",
    "#r \"nuget:Microsoft.Orleans.Server\"\n",
    "#r \"nuget:Microsoft.Orleans.OrleansCodeGenerator\"\n",
    "\n",
    "//logging libraries\n",
    "#r \"nuget: Microsoft.Extensions.Logging.Abstractions\"\n",
    "#r \"nuget: Microsoft.Extensions.Logging\"\n",
    "#r \"nuget: Serilog.Extensions.Logging\"\n",
    "#r \"nuget: Serilog.Sinks.Console\""
   ]
  },
  {
   "cell_type": "markdown",
   "id": "bfbb3cfa",
   "metadata": {},
   "source": [
    "Using some namespace to reduce clutter code and enable hosting extension methods:"
   ]
  },
  {
   "cell_type": "code",
   "execution_count": null,
   "id": "9384a1f5",
   "metadata": {
    "dotnet_interactive": {
     "language": "csharp"
    },
    "vscode": {
     "languageId": "dotnet-interactive.csharp"
    }
   },
   "outputs": [],
   "source": [
    "// Orleans Silo\n",
    "using Microsoft.Extensions.Hosting;\n",
    "using Orleans;\n",
    "using Orleans.Hosting;\n",
    "using Orleans.Runtime;\n",
    "using Orleans.Configuration;\n",
    "\n",
    "using Microsoft.Extensions.Logging;\n",
    "using Serilog;\n",
    "\n",
    "//Our Orleans Grain & Interface\n",
    "using UrlShortener.Backend.Grains;\n",
    "using UrlShortener.Backend.Interfaces;"
   ]
  },
  {
   "cell_type": "markdown",
   "id": "3d4d4e1b",
   "metadata": {},
   "source": [
    "## Server (Silo Host)\n",
    "Create [HostBuilder](https://docs.microsoft.com/en-us/dotnet/api/microsoft.extensions.hosting.hostbuilder) and properly configure it:"
   ]
  },
  {
   "cell_type": "code",
   "execution_count": null,
   "id": "ac703655",
   "metadata": {
    "dotnet_interactive": {
     "language": "csharp"
    },
    "vscode": {
     "languageId": "dotnet-interactive.csharp"
    }
   },
   "outputs": [],
   "source": [
    "Log.Logger = new LoggerConfiguration().WriteTo.Console().CreateLogger();\n",
    "var codeGenLoggerFactory = \n",
    "    LoggerFactory.Create(logBuilder =>{\n",
    "        logBuilder.AddSerilog();\n",
    "    });\n",
    "\n",
    "var hostBuilder = new HostBuilder().UseOrleans(siloBuilder =>{\n",
    "    siloBuilder.UseLocalhostClustering()\n",
    "        .Configure<ClusterOptions>(options =>\n",
    "        {\n",
    "            options.ClusterId = \"local-cluster-01\";\n",
    "            options.ServiceId = \"JupyterNotebook_Orleans_Silo\";\n",
    "        })\n",
    "        .ConfigureApplicationParts(parts =>\n",
    "        {\n",
    "            parts.AddApplicationPart(typeof(UrlStoreGrain).Assembly).WithCodeGeneration(codeGenLoggerFactory);\n",
    "            parts.AddApplicationPart(typeof(IUrlStoreGrain).Assembly).WithCodeGeneration(codeGenLoggerFactory);\n",
    "        })\n",
    "        .AddMemoryGrainStorage(\"url-store\");                           \n",
    "});"
   ]
  },
  {
   "cell_type": "markdown",
   "id": "3493826e",
   "metadata": {},
   "source": [
    "Create via host builder and run Silo host, the Grains Server:"
   ]
  },
  {
   "cell_type": "code",
   "execution_count": null,
   "id": "ed63b0b3",
   "metadata": {
    "dotnet_interactive": {
     "language": "csharp"
    },
    "vscode": {
     "languageId": "dotnet-interactive.csharp"
    }
   },
   "outputs": [
    {
     "name": "stdout",
     "output_type": "stream",
     "text": [
      "[13:29:27 INF] Generating code for assemblies: \n",
      "[13:29:28 INF] Runtime code generation for assemblies  UrlShortener.Backend.Grains, Version=1.0.0.0, Culture=neutral, PublicKeyToken=null took 807 milliseconds\n",
      "[13:29:28 INF] Generating code for assemblies: \n",
      "[13:29:28 INF] Runtime code generation for assemblies  UrlShortener.Backend.Interfaces, Version=1.0.0.0, Culture=neutral, PublicKeyToken=null took 455 milliseconds\n"
     ]
    }
   ],
   "source": [
    "var host = hostBuilder.Build();\n",
    "host.Start();"
   ]
  },
  {
   "cell_type": "markdown",
   "id": "3adfc02d",
   "metadata": {},
   "source": [
    "## Client \n",
    "Create [ClientBuilder](https://docs.microsoft.com/en-us/dotnet/api/orleans.clientbuilder) and configure it:"
   ]
  },
  {
   "cell_type": "code",
   "execution_count": null,
   "id": "fbee6259",
   "metadata": {
    "dotnet_interactive": {
     "language": "csharp"
    },
    "vscode": {
     "languageId": "dotnet-interactive.csharp"
    }
   },
   "outputs": [
    {
     "name": "stdout",
     "output_type": "stream",
     "text": [
      "[13:29:36 INF] Generating code for assemblies: \n",
      "[13:29:36 INF] Runtime code generation for assemblies  UrlShortener.Backend.Interfaces, Version=1.0.0.0, Culture=neutral, PublicKeyToken=null took 130 milliseconds\n"
     ]
    }
   ],
   "source": [
    "var clientBuilder = new ClientBuilder().UseLocalhostClustering().Configure<ClusterOptions>(options =>\n",
    "        {\n",
    "            options.ClusterId = \"dev\";\n",
    "            options.ServiceId = \"JupyterNotebook_Orleans_Silo\";\n",
    "        })\n",
    "        .ConfigureApplicationParts(parts =>\n",
    "        {\n",
    "            parts.AddApplicationPart(typeof(IUrlStoreGrain).Assembly).WithCodeGeneration(codeGenLoggerFactory);  // we only needs grin interface code generation.\n",
    "        });"
   ]
  },
  {
   "cell_type": "markdown",
   "id": "b2c8c727",
   "metadata": {},
   "source": [
    "Creat Orleans client and get the *RPC Client Stub* object (Grain method's invocation instance) via a defined Identifier (ex: \"a_token\"):"
   ]
  },
  {
   "cell_type": "code",
   "execution_count": null,
   "id": "cce8354a",
   "metadata": {
    "dotnet_interactive": {
     "language": "csharp"
    },
    "vscode": {
     "languageId": "dotnet-interactive.csharp"
    }
   },
   "outputs": [],
   "source": [
    "var client = clientBuilder.Build();\n",
    "await client.Connect();\n",
    "var urlStoreGrain = client.GetGrain<IUrlStoreGrain>(\"a_token\");"
   ]
  },
  {
   "cell_type": "markdown",
   "id": "f22fe1c9",
   "metadata": {},
   "source": [
    "The `urlStoreGrain` is the client stub object, call its `Task SetUrl(string shortenedRouteSegment, string fullUrl)` RPC method:"
   ]
  },
  {
   "cell_type": "code",
   "execution_count": null,
   "id": "d4c309fd",
   "metadata": {
    "dotnet_interactive": {
     "language": "csharp"
    },
    "vscode": {
     "languageId": "dotnet-interactive.csharp"
    }
   },
   "outputs": [],
   "source": [
    "await urlStoreGrain.SetUrl(\"a_token\", @\"https://www.google.com\");"
   ]
  },
  {
   "cell_type": "markdown",
   "id": "b93e6d20",
   "metadata": {},
   "source": [
    "Call another RPC method `Task<string> GetUrl();` to get just stored long URL address:"
   ]
  },
  {
   "cell_type": "code",
   "execution_count": null,
   "id": "e1369195",
   "metadata": {
    "dotnet_interactive": {
     "language": "csharp"
    },
    "vscode": {
     "languageId": "dotnet-interactive.csharp"
    }
   },
   "outputs": [
    {
     "data": {
      "text/plain": [
       "return result url is: https://www.google.com"
      ]
     },
     "metadata": {},
     "output_type": "display_data"
    }
   ],
   "source": [
    "var longUrl = await urlStoreGrain.GetUrl();\n",
    "display(\"return result url is: \" + longUrl)"
   ]
  },
  {
   "cell_type": "markdown",
   "id": "76985ac4",
   "metadata": {},
   "source": [
    "Close connection of RPC client stub:"
   ]
  },
  {
   "cell_type": "code",
   "execution_count": null,
   "id": "fb7db32c",
   "metadata": {
    "dotnet_interactive": {
     "language": "csharp"
    },
    "vscode": {
     "languageId": "dotnet-interactive.csharp"
    }
   },
   "outputs": [],
   "source": [
    "await client.Close();"
   ]
  },
  {
   "cell_type": "markdown",
   "id": "ea8b577b",
   "metadata": {},
   "source": [
    "Shutdown server:"
   ]
  },
  {
   "cell_type": "code",
   "execution_count": null,
   "id": "eb1f8859",
   "metadata": {
    "dotnet_interactive": {
     "language": "csharp"
    },
    "vscode": {
     "languageId": "dotnet-interactive.csharp"
    }
   },
   "outputs": [],
   "source": [
    "await host.StopAsync();"
   ]
  }
 ],
 "metadata": {
  "kernelspec": {
   "display_name": ".NET (C#)",
   "language": "C#",
   "name": ".net-csharp"
  },
  "language_info": {
   "file_extension": ".cs",
   "mimetype": "text/x-csharp",
   "name": "C#",
   "pygments_lexer": "csharp",
   "version": "10.0"
  }
 },
 "nbformat": 4,
 "nbformat_minor": 5
}
